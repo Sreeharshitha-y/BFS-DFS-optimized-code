{
  "nbformat": 4,
  "nbformat_minor": 0,
  "metadata": {
    "colab": {
      "provenance": []
    },
    "kernelspec": {
      "name": "python3",
      "display_name": "Python 3"
    },
    "language_info": {
      "name": "python"
    }
  },
  "cells": [
    {
      "cell_type": "code",
      "execution_count": null,
      "metadata": {
        "colab": {
          "base_uri": "https://localhost:8080/"
        },
        "id": "JzU8z2QUgeVH",
        "outputId": "3fcc61cc-e527-46dd-c673-feca1bbda9ce"
      },
      "outputs": [
        {
          "output_type": "stream",
          "name": "stdout",
          "text": [
            "BFS traversal:\n",
            "A\n",
            "B\n",
            "C\n",
            "D\n",
            "E\n",
            "F\n"
          ]
        }
      ],
      "source": [
        "def bfs(graph,node):\n",
        "    visited=set()\n",
        "    queue=[node]\n",
        "    visited.add(node)\n",
        "    while queue:\n",
        "        node=queue.pop(0)\n",
        "        print(node)\n",
        "        for i in graph[node]:\n",
        "            if i not in visited:\n",
        "                queue.append(i)\n",
        "                visited.add(i)\n",
        "\n",
        "graph = {\n",
        "    'A': ['B', 'C'],\n",
        "    'B': ['A', 'D', 'E'],\n",
        "    'C': ['A', 'F'],\n",
        "    'D': ['B'],\n",
        "    'E': ['B', 'F'],\n",
        "    'F': ['C', 'E']\n",
        "}\n",
        "\n",
        "print(\"BFS traversal:\")\n",
        "bfs(graph, 'A')"
      ]
    },
    {
      "cell_type": "code",
      "source": [
        "#dfs\n",
        "def dfs(graph,node,visited=None):\n",
        "    if visited is None:\n",
        "        visited=set()\n",
        "    print(node)\n",
        "    visited.add(node)\n",
        "    for i in graph[node]:\n",
        "        if i not in visited:\n",
        "            dfs(graph,i,visited)\n",
        "graph = {\n",
        "    'A': ['B', 'C'],\n",
        "    'B': ['A', 'D', 'E'],\n",
        "    'C': ['A', 'F'],\n",
        "    'D': ['B'],\n",
        "    'E': ['B', 'F'],\n",
        "    'F': ['C', 'E']\n",
        "}\n",
        "\n",
        "print(\"DFS traversal:\")\n",
        "dfs(graph, 'A')"
      ],
      "metadata": {
        "colab": {
          "base_uri": "https://localhost:8080/"
        },
        "id": "2TZL0QhUggOu",
        "outputId": "acc075ab-d4d5-42bd-8116-8f380641e0a1"
      },
      "execution_count": null,
      "outputs": [
        {
          "output_type": "stream",
          "name": "stdout",
          "text": [
            "DFS traversal:\n",
            "A\n",
            "B\n",
            "D\n",
            "E\n",
            "F\n",
            "C\n"
          ]
        }
      ]
    }
  ]
}